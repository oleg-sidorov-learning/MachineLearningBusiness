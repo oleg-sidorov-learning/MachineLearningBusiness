{
 "cells": [
  {
   "cell_type": "code",
   "execution_count": 1,
   "id": "approved-heritage",
   "metadata": {},
   "outputs": [],
   "source": [
    "import dill\n",
    "dill._dill._reverse_typemap['ClassType'] = type"
   ]
  },
  {
   "cell_type": "code",
   "execution_count": 2,
   "id": "remarkable-survey",
   "metadata": {},
   "outputs": [],
   "source": [
    "from sklearn.metrics import accuracy_score\n",
    "from sklearn.metrics import precision_score,recall_score, auc\n",
    "from sklearn.metrics import roc_auc_score, roc_curve\n",
    "from sklearn.metrics import f1_score\n",
    "from sklearn.metrics import precision_recall_curve"
   ]
  },
  {
   "cell_type": "code",
   "execution_count": 3,
   "id": "turkish-legend",
   "metadata": {},
   "outputs": [],
   "source": [
    "import pandas as pd"
   ]
  },
  {
   "cell_type": "code",
   "execution_count": 4,
   "id": "protecting-plastic",
   "metadata": {},
   "outputs": [],
   "source": [
    "import numpy as np"
   ]
  },
  {
   "cell_type": "code",
   "execution_count": 5,
   "id": "first-scout",
   "metadata": {},
   "outputs": [],
   "source": [
    "import matplotlib.pyplot as plt"
   ]
  },
  {
   "cell_type": "code",
   "execution_count": 6,
   "id": "civil-politics",
   "metadata": {},
   "outputs": [],
   "source": [
    "import seaborn as sns"
   ]
  },
  {
   "cell_type": "markdown",
   "id": "first-christmas",
   "metadata": {},
   "source": [
    "Функция для отрисовки ROC_AUC curve"
   ]
  },
  {
   "cell_type": "code",
   "execution_count": 7,
   "id": "willing-lexington",
   "metadata": {},
   "outputs": [],
   "source": [
    "def roc_auc_curve_draw(y_test, y_pred):\n",
    "    sns.set(font_scale=1.5)\n",
    "    sns.set_color_codes(\"muted\")\n",
    "\n",
    "    plt.figure(figsize=(10, 8))\n",
    "    fpr, tpr, thresholds_ = roc_curve(y_test, y_pred, pos_label=1)# C = 0.1\n",
    "    roc_auc = auc(fpr, tpr)\n",
    "    lw = 2\n",
    "\n",
    "    plt.plot(fpr, \n",
    "             tpr, \n",
    "             lw=lw, \n",
    "             label=\"ROC curve (area = %0.2f)\" % roc_auc)    \n",
    "    plt.plot([0, 1], [0, 1])\n",
    "    plt.xlim([0.0, 1.0])\n",
    "    plt.ylim([0.0, 1.05])\n",
    "    plt.xlabel('False Positive Rate')\n",
    "    plt.ylabel('True Positive Rate')\n",
    "    plt.title('ROC curve')\n",
    "    plt.legend(loc=\"lower right\")\n",
    "    #plt.savefig(\"ROC.png\")\n",
    "    plt.show()\n",
    "    return roc_auc"
   ]
  },
  {
   "cell_type": "markdown",
   "id": "quantitative-savings",
   "metadata": {},
   "source": [
    "### Получение прдсказаний"
   ]
  },
  {
   "cell_type": "markdown",
   "id": "taken-reverse",
   "metadata": {},
   "source": [
    "Импорт подготовленных файлов с данными."
   ]
  },
  {
   "cell_type": "code",
   "execution_count": 8,
   "id": "champion-computer",
   "metadata": {},
   "outputs": [],
   "source": [
    "X_test = pd.read_csv(\"X_test.csv\", index_col=0, parse_dates = ['Date'])\n",
    "y_test = pd.read_csv(\"y_test.csv\", index_col=0)"
   ]
  },
  {
   "cell_type": "code",
   "execution_count": 9,
   "id": "offshore-arlington",
   "metadata": {},
   "outputs": [
    {
     "data": {
      "text/html": [
       "<div>\n",
       "<style scoped>\n",
       "    .dataframe tbody tr th:only-of-type {\n",
       "        vertical-align: middle;\n",
       "    }\n",
       "\n",
       "    .dataframe tbody tr th {\n",
       "        vertical-align: top;\n",
       "    }\n",
       "\n",
       "    .dataframe thead th {\n",
       "        text-align: right;\n",
       "    }\n",
       "</style>\n",
       "<table border=\"1\" class=\"dataframe\">\n",
       "  <thead>\n",
       "    <tr style=\"text-align: right;\">\n",
       "      <th></th>\n",
       "      <th>Date</th>\n",
       "      <th>Location</th>\n",
       "      <th>MinTemp</th>\n",
       "      <th>MaxTemp</th>\n",
       "      <th>Rainfall</th>\n",
       "      <th>Evaporation</th>\n",
       "      <th>Sunshine</th>\n",
       "      <th>WindGustDir</th>\n",
       "      <th>WindGustSpeed</th>\n",
       "      <th>WindDir9am</th>\n",
       "      <th>...</th>\n",
       "      <th>WindGustDir_E</th>\n",
       "      <th>WindGustDir_S</th>\n",
       "      <th>WindDir9am_N</th>\n",
       "      <th>WindDir9am_W</th>\n",
       "      <th>WindDir9am_E</th>\n",
       "      <th>WindDir9am_S</th>\n",
       "      <th>WindDir3pm_N</th>\n",
       "      <th>WindDir3pm_W</th>\n",
       "      <th>WindDir3pm_E</th>\n",
       "      <th>WindDir3pm_S</th>\n",
       "    </tr>\n",
       "  </thead>\n",
       "  <tbody>\n",
       "    <tr>\n",
       "      <th>62475</th>\n",
       "      <td>2012-08-16</td>\n",
       "      <td>Sale</td>\n",
       "      <td>276.15</td>\n",
       "      <td>288.65</td>\n",
       "      <td>0.2</td>\n",
       "      <td>2.4</td>\n",
       "      <td>9.400000</td>\n",
       "      <td>NW</td>\n",
       "      <td>52.0</td>\n",
       "      <td>NW</td>\n",
       "      <td>...</td>\n",
       "      <td>NaN</td>\n",
       "      <td>NaN</td>\n",
       "      <td>0.500</td>\n",
       "      <td>0.500</td>\n",
       "      <td>NaN</td>\n",
       "      <td>NaN</td>\n",
       "      <td>0.5</td>\n",
       "      <td>0.500</td>\n",
       "      <td>NaN</td>\n",
       "      <td>NaN</td>\n",
       "    </tr>\n",
       "    <tr>\n",
       "      <th>134476</th>\n",
       "      <td>2013-01-15</td>\n",
       "      <td>Launceston</td>\n",
       "      <td>285.65</td>\n",
       "      <td>295.25</td>\n",
       "      <td>0.0</td>\n",
       "      <td>10.8</td>\n",
       "      <td>9.946793</td>\n",
       "      <td>NW</td>\n",
       "      <td>44.0</td>\n",
       "      <td>NW</td>\n",
       "      <td>...</td>\n",
       "      <td>NaN</td>\n",
       "      <td>NaN</td>\n",
       "      <td>0.500</td>\n",
       "      <td>0.500</td>\n",
       "      <td>NaN</td>\n",
       "      <td>NaN</td>\n",
       "      <td>0.5</td>\n",
       "      <td>0.500</td>\n",
       "      <td>NaN</td>\n",
       "      <td>NaN</td>\n",
       "    </tr>\n",
       "    <tr>\n",
       "      <th>105840</th>\n",
       "      <td>2009-10-06</td>\n",
       "      <td>Woomera</td>\n",
       "      <td>283.95</td>\n",
       "      <td>295.55</td>\n",
       "      <td>0.0</td>\n",
       "      <td>7.2</td>\n",
       "      <td>9.100000</td>\n",
       "      <td>SSE</td>\n",
       "      <td>46.0</td>\n",
       "      <td>SE</td>\n",
       "      <td>...</td>\n",
       "      <td>0.333</td>\n",
       "      <td>0.667</td>\n",
       "      <td>NaN</td>\n",
       "      <td>NaN</td>\n",
       "      <td>0.5</td>\n",
       "      <td>0.5</td>\n",
       "      <td>NaN</td>\n",
       "      <td>NaN</td>\n",
       "      <td>NaN</td>\n",
       "      <td>1.000</td>\n",
       "    </tr>\n",
       "    <tr>\n",
       "      <th>13630</th>\n",
       "      <td>2013-07-11</td>\n",
       "      <td>Moree</td>\n",
       "      <td>280.65</td>\n",
       "      <td>294.25</td>\n",
       "      <td>0.0</td>\n",
       "      <td>1.8</td>\n",
       "      <td>10.100000</td>\n",
       "      <td>E</td>\n",
       "      <td>30.0</td>\n",
       "      <td>E</td>\n",
       "      <td>...</td>\n",
       "      <td>1.000</td>\n",
       "      <td>NaN</td>\n",
       "      <td>NaN</td>\n",
       "      <td>NaN</td>\n",
       "      <td>1.0</td>\n",
       "      <td>NaN</td>\n",
       "      <td>NaN</td>\n",
       "      <td>NaN</td>\n",
       "      <td>1.0</td>\n",
       "      <td>NaN</td>\n",
       "    </tr>\n",
       "    <tr>\n",
       "      <th>80972</th>\n",
       "      <td>2017-05-31</td>\n",
       "      <td>Watsonia</td>\n",
       "      <td>277.65</td>\n",
       "      <td>286.25</td>\n",
       "      <td>6.2</td>\n",
       "      <td>2.0</td>\n",
       "      <td>6.100000</td>\n",
       "      <td>SSW</td>\n",
       "      <td>37.0</td>\n",
       "      <td>WNW</td>\n",
       "      <td>...</td>\n",
       "      <td>NaN</td>\n",
       "      <td>0.667</td>\n",
       "      <td>0.333</td>\n",
       "      <td>0.667</td>\n",
       "      <td>NaN</td>\n",
       "      <td>NaN</td>\n",
       "      <td>NaN</td>\n",
       "      <td>0.333</td>\n",
       "      <td>NaN</td>\n",
       "      <td>0.667</td>\n",
       "    </tr>\n",
       "  </tbody>\n",
       "</table>\n",
       "<p>5 rows × 35 columns</p>\n",
       "</div>"
      ],
      "text/plain": [
       "             Date    Location  MinTemp  MaxTemp  Rainfall  Evaporation  \\\n",
       "62475  2012-08-16        Sale   276.15   288.65       0.2          2.4   \n",
       "134476 2013-01-15  Launceston   285.65   295.25       0.0         10.8   \n",
       "105840 2009-10-06     Woomera   283.95   295.55       0.0          7.2   \n",
       "13630  2013-07-11       Moree   280.65   294.25       0.0          1.8   \n",
       "80972  2017-05-31    Watsonia   277.65   286.25       6.2          2.0   \n",
       "\n",
       "         Sunshine WindGustDir  WindGustSpeed WindDir9am  ... WindGustDir_E  \\\n",
       "62475    9.400000          NW           52.0         NW  ...           NaN   \n",
       "134476   9.946793          NW           44.0         NW  ...           NaN   \n",
       "105840   9.100000         SSE           46.0         SE  ...         0.333   \n",
       "13630   10.100000           E           30.0          E  ...         1.000   \n",
       "80972    6.100000         SSW           37.0        WNW  ...           NaN   \n",
       "\n",
       "        WindGustDir_S  WindDir9am_N  WindDir9am_W  WindDir9am_E  WindDir9am_S  \\\n",
       "62475             NaN         0.500         0.500           NaN           NaN   \n",
       "134476            NaN         0.500         0.500           NaN           NaN   \n",
       "105840          0.667           NaN           NaN           0.5           0.5   \n",
       "13630             NaN           NaN           NaN           1.0           NaN   \n",
       "80972           0.667         0.333         0.667           NaN           NaN   \n",
       "\n",
       "        WindDir3pm_N  WindDir3pm_W  WindDir3pm_E  WindDir3pm_S  \n",
       "62475            0.5         0.500           NaN           NaN  \n",
       "134476           0.5         0.500           NaN           NaN  \n",
       "105840           NaN           NaN           NaN         1.000  \n",
       "13630            NaN           NaN           1.0           NaN  \n",
       "80972            NaN         0.333           NaN         0.667  \n",
       "\n",
       "[5 rows x 35 columns]"
      ]
     },
     "execution_count": 9,
     "metadata": {},
     "output_type": "execute_result"
    }
   ],
   "source": [
    "X_test.head()"
   ]
  },
  {
   "cell_type": "code",
   "execution_count": 10,
   "id": "chemical-welding",
   "metadata": {},
   "outputs": [
    {
     "data": {
      "text/html": [
       "<div>\n",
       "<style scoped>\n",
       "    .dataframe tbody tr th:only-of-type {\n",
       "        vertical-align: middle;\n",
       "    }\n",
       "\n",
       "    .dataframe tbody tr th {\n",
       "        vertical-align: top;\n",
       "    }\n",
       "\n",
       "    .dataframe thead th {\n",
       "        text-align: right;\n",
       "    }\n",
       "</style>\n",
       "<table border=\"1\" class=\"dataframe\">\n",
       "  <thead>\n",
       "    <tr style=\"text-align: right;\">\n",
       "      <th></th>\n",
       "      <th>RainTomorrow</th>\n",
       "    </tr>\n",
       "  </thead>\n",
       "  <tbody>\n",
       "    <tr>\n",
       "      <th>62475</th>\n",
       "      <td>0</td>\n",
       "    </tr>\n",
       "    <tr>\n",
       "      <th>134476</th>\n",
       "      <td>0</td>\n",
       "    </tr>\n",
       "    <tr>\n",
       "      <th>105840</th>\n",
       "      <td>0</td>\n",
       "    </tr>\n",
       "    <tr>\n",
       "      <th>13630</th>\n",
       "      <td>0</td>\n",
       "    </tr>\n",
       "    <tr>\n",
       "      <th>80972</th>\n",
       "      <td>0</td>\n",
       "    </tr>\n",
       "  </tbody>\n",
       "</table>\n",
       "</div>"
      ],
      "text/plain": [
       "        RainTomorrow\n",
       "62475              0\n",
       "134476             0\n",
       "105840             0\n",
       "13630              0\n",
       "80972              0"
      ]
     },
     "execution_count": 10,
     "metadata": {},
     "output_type": "execute_result"
    }
   ],
   "source": [
    "y_test.head()"
   ]
  },
  {
   "cell_type": "markdown",
   "id": "classified-shanghai",
   "metadata": {},
   "source": [
    "Загрузка обученной модели из предыдущего этапа."
   ]
  },
  {
   "cell_type": "code",
   "execution_count": 11,
   "id": "frozen-groove",
   "metadata": {},
   "outputs": [],
   "source": [
    "with open(\"catboost_model.dill\", 'rb') as in_strm:\n",
    "    clf = dill.load(in_strm)"
   ]
  },
  {
   "cell_type": "markdown",
   "id": "incident-stamp",
   "metadata": {},
   "source": [
    "Получение предсказаний по загруженному датасету с использованием предварительно обученой модели."
   ]
  },
  {
   "cell_type": "code",
   "execution_count": 12,
   "id": "diagnostic-things",
   "metadata": {},
   "outputs": [],
   "source": [
    "y_pred_proba = clf.predict_proba(X_test)"
   ]
  },
  {
   "cell_type": "markdown",
   "id": "agricultural-cookie",
   "metadata": {},
   "source": [
    "### Метрики"
   ]
  },
  {
   "cell_type": "markdown",
   "id": "yellow-brass",
   "metadata": {},
   "source": [
    "Построим две стандартные метрики:\n",
    "- кривую точность/полнота\n",
    "- ROC_AUC кривую"
   ]
  },
  {
   "cell_type": "code",
   "execution_count": 13,
   "id": "tutorial-silver",
   "metadata": {},
   "outputs": [],
   "source": [
    "precision, recall, thresholds = precision_recall_curve(y_test, y_pred_proba[:,1])"
   ]
  },
  {
   "cell_type": "code",
   "execution_count": 14,
   "id": "vietnamese-substitute",
   "metadata": {},
   "outputs": [],
   "source": [
    "fscore = (2 * precision * recall) / (precision + recall)\n",
    "ix = np.argmax(fscore)"
   ]
  },
  {
   "cell_type": "code",
   "execution_count": 15,
   "id": "suspended-brave",
   "metadata": {},
   "outputs": [],
   "source": [
    "n=-1"
   ]
  },
  {
   "cell_type": "code",
   "execution_count": 16,
   "id": "swedish-coral",
   "metadata": {},
   "outputs": [
    {
     "data": {
      "image/png": "[encoded data removed]",
      "text/plain": [
       "<Figure size 432x288 with 1 Axes>"
      ]
     },
     "metadata": {
      "needs_background": "light"
     },
     "output_type": "display_data"
    }
   ],
   "source": [
    "plt.plot(recall[:n],precision[:n] )\n",
    "plt.title(' точность/полнота для текущего варианта')\n",
    "plt.xlabel(' полнота')\n",
    "plt.ylabel(' точность')\n",
    "plt.grid('On')\n",
    "plt.show()"
   ]
  },
  {
   "cell_type": "code",
   "execution_count": 17,
   "id": "parallel-portugal",
   "metadata": {},
   "outputs": [
    {
     "data": {
      "image/png": "[encoded data removed]",
      "text/plain": [
       "<Figure size 720x576 with 1 Axes>"
      ]
     },
     "metadata": {},
     "output_type": "display_data"
    }
   ],
   "source": [
    "roc_auc = roc_auc_curve_draw(y_test, y_pred_proba[:, 1])"
   ]
  },
  {
   "cell_type": "code",
   "execution_count": 18,
   "id": "complete-premium",
   "metadata": {},
   "outputs": [
    {
     "data": {
      "text/plain": [
       "0.8990223919334965"
      ]
     },
     "execution_count": 18,
     "metadata": {},
     "output_type": "execute_result"
    }
   ],
   "source": [
    "roc_auc_score(y_score=y_pred_proba[:, 1][:], y_true=y_test.iloc[:])"
   ]
  },
  {
   "cell_type": "markdown",
   "id": "featured-jaguar",
   "metadata": {},
   "source": [
    "В дальнейшем, после дополнительной работы с датасетом эта величина может измениться."
   ]
  }
 ],
 "metadata": {
  "kernelspec": {
   "display_name": "Python 3",
   "language": "python",
   "name": "python3"
  },
  "language_info": {
   "codemirror_mode": {
    "name": "ipython",
    "version": 3
   },
   "file_extension": ".py",
   "mimetype": "text/x-python",
   "name": "python",
   "nbconvert_exporter": "python",
   "pygments_lexer": "ipython3",
   "version": "3.9.1"
  }
 },
 "nbformat": 4,
 "nbformat_minor": 5
}
